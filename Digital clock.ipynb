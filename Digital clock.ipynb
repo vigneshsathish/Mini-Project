{
 "cells": [
  {
   "cell_type": "markdown",
   "metadata": {},
   "source": [
    "# DIGITAL CLOCK"
   ]
  },
  {
   "cell_type": "code",
   "execution_count": null,
   "metadata": {},
   "outputs": [],
   "source": [
    "from tkinter import *\n",
    "import time as t\n",
    "\n",
    "dc=Tk() # dc class or object is created as a Widget by using Tk().\n",
    "dc.title(\"DIGITAL CLOCK\") # Applies title Digital clock  for the dc class widget\n",
    "dc.geometry(\"400x60\") # size of the widget\n",
    "\n",
    "def time(): # Recursive function time created, for making time calls itself.\n",
    "    d=t.strftime('%d-%m-%Y , %I:%M:%S %p') #t is text which is converted as date format using stingformattime.\n",
    "    l.config(text=d) # configuration of text as a label \n",
    "    l.after(1000,time) # recursive function time called in after function\n",
    "\n",
    "l=Label(dc,font=('ARIAL',25),bg='bLACK',fg='CYAN')\n",
    "l.pack()# to execute label this has to be done .\n",
    "time()\n",
    "\n",
    "mainloop()# to execute above all."
   ]
  }
 ],
 "metadata": {
  "kernelspec": {
   "display_name": "Python 3",
   "language": "python",
   "name": "python3"
  },
  "language_info": {
   "codemirror_mode": {
    "name": "ipython",
    "version": 3
   },
   "file_extension": ".py",
   "mimetype": "text/x-python",
   "name": "python",
   "nbconvert_exporter": "python",
   "pygments_lexer": "ipython3",
   "version": "3.8.5"
  }
 },
 "nbformat": 4,
 "nbformat_minor": 4
}
